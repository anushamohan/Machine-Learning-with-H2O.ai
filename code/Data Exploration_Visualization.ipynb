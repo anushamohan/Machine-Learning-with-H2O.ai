{
 "cells": [
  {
   "cell_type": "code",
   "execution_count": 1,
   "metadata": {
    "collapsed": true
   },
   "outputs": [],
   "source": [
    "import pandas as pd"
   ]
  },
  {
   "cell_type": "code",
   "execution_count": 2,
   "metadata": {
    "collapsed": false
   },
   "outputs": [],
   "source": [
    "data = pd.read_csv(\"/home/anusha/cscie-63/project/foldpro_final.csv\")"
   ]
  },
  {
   "cell_type": "code",
   "execution_count": 3,
   "metadata": {
    "collapsed": false
   },
   "outputs": [
    {
     "data": {
      "text/html": [
       "<div>\n",
       "<table border=\"1\" class=\"dataframe\">\n",
       "  <thead>\n",
       "    <tr style=\"text-align: right;\">\n",
       "      <th></th>\n",
       "      <th>LABEL</th>\n",
       "      <th>QUERY_LENGTH</th>\n",
       "      <th>TARGET_LENGTH</th>\n",
       "      <th>COSINE_COMP_MONOMER_QUERY_TEMPLATE_SEQ</th>\n",
       "      <th>CORRELATION_COMP_MONOMER_QUERY_TEMPLATE_SEQ</th>\n",
       "      <th>GAUSSIAN_FUNCTION_COMP_MONOMER_QUERY_TEMPLATE_SEQ</th>\n",
       "      <th>COSINE_COMP_DIMER_QUERY_TEMPLATE_SEQ</th>\n",
       "      <th>CORRELATION_COMP_DIMER_QUERY_TEMPLATE_SEQ</th>\n",
       "      <th>GAUSSIAN_FUNCTION_COMP_DIMER_QUERY_TEMPLATE_SEQ</th>\n",
       "      <th>COSINE_COMP_MONOMER_QUERY_TEMPLATE_FAMILIES</th>\n",
       "      <th>...</th>\n",
       "      <th>DOT_PRODUCT_SS_SA_COMP</th>\n",
       "      <th>HMMER_PRCHMMM_COEMIS_SCORE</th>\n",
       "      <th>HMMER_PRCHMMM_SIMPLE_SCORE</th>\n",
       "      <th>HMMER_PRCHMMM_REVERSE_SCORE</th>\n",
       "      <th>CHK_PRCHMMM_COEMIS_SCORE</th>\n",
       "      <th>CHK_PRCHMMM_SIMPLE_SCORE</th>\n",
       "      <th>CHK_PRCHMMM_REVERSE_SCORE</th>\n",
       "      <th>HHSEARCH_PROFILE_PROFILE_ALIGNMENT_SCORE</th>\n",
       "      <th>COMPASS_ALIGNMENT_SCORE</th>\n",
       "      <th>COMPASS_EVALUE</th>\n",
       "    </tr>\n",
       "  </thead>\n",
       "  <tbody>\n",
       "    <tr>\n",
       "      <th>0</th>\n",
       "      <td>NO</td>\n",
       "      <td>0.86</td>\n",
       "      <td>2.51</td>\n",
       "      <td>0.698011</td>\n",
       "      <td>0.012915</td>\n",
       "      <td>0.809200</td>\n",
       "      <td>0.270975</td>\n",
       "      <td>0.042790</td>\n",
       "      <td>0.876369</td>\n",
       "      <td>0.868627</td>\n",
       "      <td>...</td>\n",
       "      <td>0.879876</td>\n",
       "      <td>0.150000</td>\n",
       "      <td>0.122093</td>\n",
       "      <td>-0.009302</td>\n",
       "      <td>0.154651</td>\n",
       "      <td>0.094186</td>\n",
       "      <td>-0.031395</td>\n",
       "      <td>0.077907</td>\n",
       "      <td>0.395349</td>\n",
       "      <td>0.084429</td>\n",
       "    </tr>\n",
       "    <tr>\n",
       "      <th>1</th>\n",
       "      <td>NO</td>\n",
       "      <td>0.86</td>\n",
       "      <td>1.40</td>\n",
       "      <td>0.762214</td>\n",
       "      <td>0.230032</td>\n",
       "      <td>0.828307</td>\n",
       "      <td>0.188451</td>\n",
       "      <td>-0.004358</td>\n",
       "      <td>0.862556</td>\n",
       "      <td>0.833398</td>\n",
       "      <td>...</td>\n",
       "      <td>0.782558</td>\n",
       "      <td>0.133721</td>\n",
       "      <td>0.080233</td>\n",
       "      <td>-0.034884</td>\n",
       "      <td>0.145349</td>\n",
       "      <td>0.084884</td>\n",
       "      <td>0.002326</td>\n",
       "      <td>0.045349</td>\n",
       "      <td>0.290698</td>\n",
       "      <td>1.046402</td>\n",
       "    </tr>\n",
       "    <tr>\n",
       "      <th>2</th>\n",
       "      <td>NO</td>\n",
       "      <td>0.86</td>\n",
       "      <td>1.27</td>\n",
       "      <td>0.697333</td>\n",
       "      <td>0.060258</td>\n",
       "      <td>0.807850</td>\n",
       "      <td>0.186212</td>\n",
       "      <td>0.009945</td>\n",
       "      <td>0.858690</td>\n",
       "      <td>0.828298</td>\n",
       "      <td>...</td>\n",
       "      <td>0.765153</td>\n",
       "      <td>0.132558</td>\n",
       "      <td>0.090698</td>\n",
       "      <td>-0.022093</td>\n",
       "      <td>0.143023</td>\n",
       "      <td>0.088372</td>\n",
       "      <td>0.001163</td>\n",
       "      <td>0.056977</td>\n",
       "      <td>0.290698</td>\n",
       "      <td>0.902108</td>\n",
       "    </tr>\n",
       "  </tbody>\n",
       "</table>\n",
       "<p>3 rows × 85 columns</p>\n",
       "</div>"
      ],
      "text/plain": [
       "  LABEL  QUERY_LENGTH  TARGET_LENGTH  COSINE_COMP_MONOMER_QUERY_TEMPLATE_SEQ  \\\n",
       "0    NO          0.86           2.51                                0.698011   \n",
       "1    NO          0.86           1.40                                0.762214   \n",
       "2    NO          0.86           1.27                                0.697333   \n",
       "\n",
       "   CORRELATION_COMP_MONOMER_QUERY_TEMPLATE_SEQ  \\\n",
       "0                                     0.012915   \n",
       "1                                     0.230032   \n",
       "2                                     0.060258   \n",
       "\n",
       "   GAUSSIAN_FUNCTION_COMP_MONOMER_QUERY_TEMPLATE_SEQ  \\\n",
       "0                                           0.809200   \n",
       "1                                           0.828307   \n",
       "2                                           0.807850   \n",
       "\n",
       "   COSINE_COMP_DIMER_QUERY_TEMPLATE_SEQ  \\\n",
       "0                              0.270975   \n",
       "1                              0.188451   \n",
       "2                              0.186212   \n",
       "\n",
       "   CORRELATION_COMP_DIMER_QUERY_TEMPLATE_SEQ  \\\n",
       "0                                   0.042790   \n",
       "1                                  -0.004358   \n",
       "2                                   0.009945   \n",
       "\n",
       "   GAUSSIAN_FUNCTION_COMP_DIMER_QUERY_TEMPLATE_SEQ  \\\n",
       "0                                         0.876369   \n",
       "1                                         0.862556   \n",
       "2                                         0.858690   \n",
       "\n",
       "   COSINE_COMP_MONOMER_QUERY_TEMPLATE_FAMILIES       ...        \\\n",
       "0                                     0.868627       ...         \n",
       "1                                     0.833398       ...         \n",
       "2                                     0.828298       ...         \n",
       "\n",
       "   DOT_PRODUCT_SS_SA_COMP  HMMER_PRCHMMM_COEMIS_SCORE  \\\n",
       "0                0.879876                    0.150000   \n",
       "1                0.782558                    0.133721   \n",
       "2                0.765153                    0.132558   \n",
       "\n",
       "   HMMER_PRCHMMM_SIMPLE_SCORE  HMMER_PRCHMMM_REVERSE_SCORE  \\\n",
       "0                    0.122093                    -0.009302   \n",
       "1                    0.080233                    -0.034884   \n",
       "2                    0.090698                    -0.022093   \n",
       "\n",
       "   CHK_PRCHMMM_COEMIS_SCORE  CHK_PRCHMMM_SIMPLE_SCORE  \\\n",
       "0                  0.154651                  0.094186   \n",
       "1                  0.145349                  0.084884   \n",
       "2                  0.143023                  0.088372   \n",
       "\n",
       "   CHK_PRCHMMM_REVERSE_SCORE  HHSEARCH_PROFILE_PROFILE_ALIGNMENT_SCORE  \\\n",
       "0                  -0.031395                                  0.077907   \n",
       "1                   0.002326                                  0.045349   \n",
       "2                   0.001163                                  0.056977   \n",
       "\n",
       "   COMPASS_ALIGNMENT_SCORE  COMPASS_EVALUE  \n",
       "0                 0.395349        0.084429  \n",
       "1                 0.290698        1.046402  \n",
       "2                 0.290698        0.902108  \n",
       "\n",
       "[3 rows x 85 columns]"
      ]
     },
     "execution_count": 3,
     "metadata": {},
     "output_type": "execute_result"
    }
   ],
   "source": [
    "data.head(3)"
   ]
  },
  {
   "cell_type": "code",
   "execution_count": 4,
   "metadata": {
    "collapsed": false
   },
   "outputs": [
    {
     "name": "stdout",
     "output_type": "stream",
     "text": [
      "Requirement already satisfied (use --upgrade to upgrade): matplotlib in /home/anusha/anaconda2/lib/python2.7/site-packages\r\n",
      "Requirement already satisfied (use --upgrade to upgrade): numpy>=1.6 in /home/anusha/anaconda2/lib/python2.7/site-packages (from matplotlib)\r\n",
      "Requirement already satisfied (use --upgrade to upgrade): python-dateutil in /home/anusha/anaconda2/lib/python2.7/site-packages (from matplotlib)\r\n",
      "Requirement already satisfied (use --upgrade to upgrade): pytz in /home/anusha/anaconda2/lib/python2.7/site-packages (from matplotlib)\r\n",
      "Requirement already satisfied (use --upgrade to upgrade): cycler in /home/anusha/anaconda2/lib/python2.7/site-packages (from matplotlib)\r\n",
      "Requirement already satisfied (use --upgrade to upgrade): pyparsing!=2.0.4,>=1.5.6 in /home/anusha/anaconda2/lib/python2.7/site-packages (from matplotlib)\r\n",
      "Requirement already satisfied (use --upgrade to upgrade): six>=1.5 in /home/anusha/anaconda2/lib/python2.7/site-packages (from python-dateutil->matplotlib)\r\n"
     ]
    }
   ],
   "source": [
    "!pip install matplotlib"
   ]
  },
  {
   "cell_type": "code",
   "execution_count": 5,
   "metadata": {
    "collapsed": true
   },
   "outputs": [],
   "source": [
    "%matplotlib inline\n",
    "import matplotlib.pyplot as plt"
   ]
  },
  {
   "cell_type": "markdown",
   "metadata": {},
   "source": [
    "# Exploring the dataset"
   ]
  },
  {
   "cell_type": "code",
   "execution_count": 6,
   "metadata": {
    "collapsed": false
   },
   "outputs": [
    {
     "data": {
      "text/plain": [
       "(951600, 85)"
      ]
     },
     "execution_count": 6,
     "metadata": {},
     "output_type": "execute_result"
    }
   ],
   "source": [
    "data.shape"
   ]
  },
  {
   "cell_type": "markdown",
   "metadata": {},
   "source": [
    "## The dataset itself is a highly imbalanced dataset. The class distribution profile is as shown in the chart below"
   ]
  },
  {
   "cell_type": "code",
   "execution_count": 7,
   "metadata": {
    "collapsed": false
   },
   "outputs": [
    {
     "data": {
      "text/html": [
       "<div>\n",
       "<table border=\"1\" class=\"dataframe\">\n",
       "  <thead>\n",
       "    <tr style=\"text-align: right;\">\n",
       "      <th></th>\n",
       "      <th>QUERY_LENGTH</th>\n",
       "      <th>TARGET_LENGTH</th>\n",
       "      <th>COSINE_COMP_MONOMER_QUERY_TEMPLATE_SEQ</th>\n",
       "      <th>CORRELATION_COMP_MONOMER_QUERY_TEMPLATE_SEQ</th>\n",
       "      <th>GAUSSIAN_FUNCTION_COMP_MONOMER_QUERY_TEMPLATE_SEQ</th>\n",
       "      <th>COSINE_COMP_DIMER_QUERY_TEMPLATE_SEQ</th>\n",
       "      <th>CORRELATION_COMP_DIMER_QUERY_TEMPLATE_SEQ</th>\n",
       "      <th>GAUSSIAN_FUNCTION_COMP_DIMER_QUERY_TEMPLATE_SEQ</th>\n",
       "      <th>COSINE_COMP_MONOMER_QUERY_TEMPLATE_FAMILIES</th>\n",
       "      <th>CORRELATION_COMP_MONOMER_QUERY_TEMPLATE_FAMILIES</th>\n",
       "      <th>...</th>\n",
       "      <th>DOT_PRODUCT_SS_SA_COMP</th>\n",
       "      <th>HMMER_PRCHMMM_COEMIS_SCORE</th>\n",
       "      <th>HMMER_PRCHMMM_SIMPLE_SCORE</th>\n",
       "      <th>HMMER_PRCHMMM_REVERSE_SCORE</th>\n",
       "      <th>CHK_PRCHMMM_COEMIS_SCORE</th>\n",
       "      <th>CHK_PRCHMMM_SIMPLE_SCORE</th>\n",
       "      <th>CHK_PRCHMMM_REVERSE_SCORE</th>\n",
       "      <th>HHSEARCH_PROFILE_PROFILE_ALIGNMENT_SCORE</th>\n",
       "      <th>COMPASS_ALIGNMENT_SCORE</th>\n",
       "      <th>COMPASS_EVALUE</th>\n",
       "    </tr>\n",
       "    <tr>\n",
       "      <th>LABEL</th>\n",
       "      <th></th>\n",
       "      <th></th>\n",
       "      <th></th>\n",
       "      <th></th>\n",
       "      <th></th>\n",
       "      <th></th>\n",
       "      <th></th>\n",
       "      <th></th>\n",
       "      <th></th>\n",
       "      <th></th>\n",
       "      <th></th>\n",
       "      <th></th>\n",
       "      <th></th>\n",
       "      <th></th>\n",
       "      <th></th>\n",
       "      <th></th>\n",
       "      <th></th>\n",
       "      <th></th>\n",
       "      <th></th>\n",
       "      <th></th>\n",
       "      <th></th>\n",
       "    </tr>\n",
       "  </thead>\n",
       "  <tbody>\n",
       "    <tr>\n",
       "      <th>NO</th>\n",
       "      <td>944162</td>\n",
       "      <td>944162</td>\n",
       "      <td>944162</td>\n",
       "      <td>944162</td>\n",
       "      <td>944162</td>\n",
       "      <td>944162</td>\n",
       "      <td>944162</td>\n",
       "      <td>944162</td>\n",
       "      <td>944162</td>\n",
       "      <td>944162</td>\n",
       "      <td>...</td>\n",
       "      <td>944162</td>\n",
       "      <td>944162</td>\n",
       "      <td>944162</td>\n",
       "      <td>944162</td>\n",
       "      <td>944162</td>\n",
       "      <td>944162</td>\n",
       "      <td>944162</td>\n",
       "      <td>944162</td>\n",
       "      <td>944162</td>\n",
       "      <td>944162</td>\n",
       "    </tr>\n",
       "    <tr>\n",
       "      <th>YES</th>\n",
       "      <td>7438</td>\n",
       "      <td>7438</td>\n",
       "      <td>7438</td>\n",
       "      <td>7438</td>\n",
       "      <td>7438</td>\n",
       "      <td>7438</td>\n",
       "      <td>7438</td>\n",
       "      <td>7438</td>\n",
       "      <td>7438</td>\n",
       "      <td>7438</td>\n",
       "      <td>...</td>\n",
       "      <td>7438</td>\n",
       "      <td>7438</td>\n",
       "      <td>7438</td>\n",
       "      <td>7438</td>\n",
       "      <td>7438</td>\n",
       "      <td>7438</td>\n",
       "      <td>7438</td>\n",
       "      <td>7438</td>\n",
       "      <td>7438</td>\n",
       "      <td>7438</td>\n",
       "    </tr>\n",
       "  </tbody>\n",
       "</table>\n",
       "<p>2 rows × 84 columns</p>\n",
       "</div>"
      ],
      "text/plain": [
       "       QUERY_LENGTH  TARGET_LENGTH  COSINE_COMP_MONOMER_QUERY_TEMPLATE_SEQ  \\\n",
       "LABEL                                                                        \n",
       "NO           944162         944162                                  944162   \n",
       "YES            7438           7438                                    7438   \n",
       "\n",
       "       CORRELATION_COMP_MONOMER_QUERY_TEMPLATE_SEQ  \\\n",
       "LABEL                                                \n",
       "NO                                          944162   \n",
       "YES                                           7438   \n",
       "\n",
       "       GAUSSIAN_FUNCTION_COMP_MONOMER_QUERY_TEMPLATE_SEQ  \\\n",
       "LABEL                                                      \n",
       "NO                                                944162   \n",
       "YES                                                 7438   \n",
       "\n",
       "       COSINE_COMP_DIMER_QUERY_TEMPLATE_SEQ  \\\n",
       "LABEL                                         \n",
       "NO                                   944162   \n",
       "YES                                    7438   \n",
       "\n",
       "       CORRELATION_COMP_DIMER_QUERY_TEMPLATE_SEQ  \\\n",
       "LABEL                                              \n",
       "NO                                        944162   \n",
       "YES                                         7438   \n",
       "\n",
       "       GAUSSIAN_FUNCTION_COMP_DIMER_QUERY_TEMPLATE_SEQ  \\\n",
       "LABEL                                                    \n",
       "NO                                              944162   \n",
       "YES                                               7438   \n",
       "\n",
       "       COSINE_COMP_MONOMER_QUERY_TEMPLATE_FAMILIES  \\\n",
       "LABEL                                                \n",
       "NO                                          944162   \n",
       "YES                                           7438   \n",
       "\n",
       "       CORRELATION_COMP_MONOMER_QUERY_TEMPLATE_FAMILIES       ...        \\\n",
       "LABEL                                                         ...         \n",
       "NO                                               944162       ...         \n",
       "YES                                                7438       ...         \n",
       "\n",
       "       DOT_PRODUCT_SS_SA_COMP  HMMER_PRCHMMM_COEMIS_SCORE  \\\n",
       "LABEL                                                       \n",
       "NO                     944162                      944162   \n",
       "YES                      7438                        7438   \n",
       "\n",
       "       HMMER_PRCHMMM_SIMPLE_SCORE  HMMER_PRCHMMM_REVERSE_SCORE  \\\n",
       "LABEL                                                            \n",
       "NO                         944162                       944162   \n",
       "YES                          7438                         7438   \n",
       "\n",
       "       CHK_PRCHMMM_COEMIS_SCORE  CHK_PRCHMMM_SIMPLE_SCORE  \\\n",
       "LABEL                                                       \n",
       "NO                       944162                    944162   \n",
       "YES                        7438                      7438   \n",
       "\n",
       "       CHK_PRCHMMM_REVERSE_SCORE  HHSEARCH_PROFILE_PROFILE_ALIGNMENT_SCORE  \\\n",
       "LABEL                                                                        \n",
       "NO                        944162                                    944162   \n",
       "YES                         7438                                      7438   \n",
       "\n",
       "       COMPASS_ALIGNMENT_SCORE  COMPASS_EVALUE  \n",
       "LABEL                                           \n",
       "NO                      944162          944162  \n",
       "YES                       7438            7438  \n",
       "\n",
       "[2 rows x 84 columns]"
      ]
     },
     "execution_count": 7,
     "metadata": {},
     "output_type": "execute_result"
    }
   ],
   "source": [
    "data.groupby(\"LABEL\").count()"
   ]
  },
  {
   "cell_type": "code",
   "execution_count": 15,
   "metadata": {
    "collapsed": false
   },
   "outputs": [
    {
     "data": {
      "text/plain": [
       "<matplotlib.axes._subplots.AxesSubplot at 0x7f7d7b1501d0>"
      ]
     },
     "execution_count": 15,
     "metadata": {},
     "output_type": "execute_result"
    },
    {
     "data": {
      "image/png": "[encoded data removed]",
      "text/plain": [
       "<matplotlib.figure.Figure at 0x7f7d7b219150>"
      ]
     },
     "metadata": {},
     "output_type": "display_data"
    }
   ],
   "source": [
    "data.LABEL.value_counts().plot(kind=\"bar\")"
   ]
  },
  {
   "cell_type": "code",
   "execution_count": 16,
   "metadata": {
    "collapsed": false
   },
   "outputs": [
    {
     "data": {
      "text/plain": [
       "<matplotlib.axes._subplots.AxesSubplot at 0x7f7d7b0b72d0>"
      ]
     },
     "execution_count": 16,
     "metadata": {},
     "output_type": "execute_result"
    },
    {
     "data": {
      "image/png": "[encoded data removed]",
      "text/plain": [
       "<matplotlib.figure.Figure at 0x7f7d7b116710>"
      ]
     },
     "metadata": {},
     "output_type": "display_data"
    }
   ],
   "source": [
    "data.LABEL.value_counts().plot(kind=\"pie\")"
   ]
  },
  {
   "cell_type": "code",
   "execution_count": null,
   "metadata": {
    "collapsed": true
   },
   "outputs": [],
   "source": [
    "\n",
    "\n",
    "\n"
   ]
  }
 ],
 "metadata": {
  "kernelspec": {
   "display_name": "Python 2",
   "language": "python",
   "name": "python2"
  },
  "language_info": {
   "codemirror_mode": {
    "name": "ipython",
    "version": 2
   },
   "file_extension": ".py",
   "mimetype": "text/x-python",
   "name": "python",
   "nbconvert_exporter": "python",
   "pygments_lexer": "ipython2",
   "version": "2.7.11"
  }
 },
 "nbformat": 4,
 "nbformat_minor": 0
}
